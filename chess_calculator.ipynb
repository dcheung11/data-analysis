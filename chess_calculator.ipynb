{
  "nbformat": 4,
  "nbformat_minor": 0,
  "metadata": {
    "colab": {
      "provenance": [],
      "authorship_tag": "ABX9TyMtPzRya0XKj1Q3MHBwC0JO",
      "include_colab_link": true
    },
    "kernelspec": {
      "name": "python3",
      "display_name": "Python 3"
    },
    "language_info": {
      "name": "python"
    }
  },
  "cells": [
    {
      "cell_type": "markdown",
      "metadata": {
        "id": "view-in-github",
        "colab_type": "text"
      },
      "source": [
        "<a href=\"https://colab.research.google.com/github/dcheung11/chess.com-calculator-python/blob/main/chess_calculator.ipynb\" target=\"_parent\"><img src=\"https://colab.research.google.com/assets/colab-badge.svg\" alt=\"Open In Colab\"/></a>"
      ]
    },
    {
      "cell_type": "markdown",
      "source": [
        "Imports"
      ],
      "metadata": {
        "id": "HBqnFdE8s5fI"
      }
    },
    {
      "cell_type": "code",
      "execution_count": 122,
      "metadata": {
        "colab": {
          "base_uri": "https://localhost:8080/"
        },
        "id": "hgxjyeLgs4TH",
        "outputId": "1cc7f428-f6df-47b7-c46b-c32dababc269"
      },
      "outputs": [
        {
          "output_type": "stream",
          "name": "stdout",
          "text": [
            "Looking in indexes: https://pypi.org/simple, https://us-python.pkg.dev/colab-wheels/public/simple/\n",
            "Requirement already satisfied: chess.com in /usr/local/lib/python3.10/dist-packages (2.0.6)\n",
            "Requirement already satisfied: aiohttp==3.8.3 in /usr/local/lib/python3.10/dist-packages (from chess.com) (3.8.3)\n",
            "Requirement already satisfied: requests==2.28.0 in /usr/local/lib/python3.10/dist-packages (from chess.com) (2.28.0)\n",
            "Requirement already satisfied: attrs>=17.3.0 in /usr/local/lib/python3.10/dist-packages (from aiohttp==3.8.3->chess.com) (23.1.0)\n",
            "Requirement already satisfied: charset-normalizer<3.0,>=2.0 in /usr/local/lib/python3.10/dist-packages (from aiohttp==3.8.3->chess.com) (2.0.12)\n",
            "Requirement already satisfied: multidict<7.0,>=4.5 in /usr/local/lib/python3.10/dist-packages (from aiohttp==3.8.3->chess.com) (6.0.4)\n",
            "Requirement already satisfied: async-timeout<5.0,>=4.0.0a3 in /usr/local/lib/python3.10/dist-packages (from aiohttp==3.8.3->chess.com) (4.0.2)\n",
            "Requirement already satisfied: yarl<2.0,>=1.0 in /usr/local/lib/python3.10/dist-packages (from aiohttp==3.8.3->chess.com) (1.9.2)\n",
            "Requirement already satisfied: frozenlist>=1.1.1 in /usr/local/lib/python3.10/dist-packages (from aiohttp==3.8.3->chess.com) (1.3.3)\n",
            "Requirement already satisfied: aiosignal>=1.1.2 in /usr/local/lib/python3.10/dist-packages (from aiohttp==3.8.3->chess.com) (1.3.1)\n",
            "Requirement already satisfied: idna<4,>=2.5 in /usr/local/lib/python3.10/dist-packages (from requests==2.28.0->chess.com) (3.4)\n",
            "Requirement already satisfied: urllib3<1.27,>=1.21.1 in /usr/local/lib/python3.10/dist-packages (from requests==2.28.0->chess.com) (1.26.15)\n",
            "Requirement already satisfied: certifi>=2017.4.17 in /usr/local/lib/python3.10/dist-packages (from requests==2.28.0->chess.com) (2022.12.7)\n"
          ]
        }
      ],
      "source": [
        "!pip install chess.com\n",
        "\n",
        "from chessdotcom import get_leaderboards, get_player_stats, get_player_game_archives\n",
        "import pprint\n",
        "import requests\n",
        "import numpy as np\n",
        "printer = pprint.PrettyPrinter()\n"
      ]
    },
    {
      "cell_type": "markdown",
      "source": [
        "Get Top Wins\n",
        "\n"
      ],
      "metadata": {
        "id": "x2MmARYQs8fY"
      }
    },
    {
      "cell_type": "code",
      "source": [
        "# Get archived games\n",
        "def get_monthly_games(archive):\n",
        "    response = requests.get(archive)\n",
        "    if response.status_code == 200:\n",
        "        data = response.json()\n",
        "        return data['games']\n",
        "        # do something with the data here\n",
        "    else:\n",
        "        print(f'Request failed with status code {response.status_code}')\n",
        "        return\n",
        "\n",
        "# Get archives games from last 12 months\n",
        "def get_game_archives(username,timeclass):\n",
        "    all_games = []\n",
        "    data = get_player_game_archives(username).json\n",
        "    for archive in data[\"archives\"][-12:]:\n",
        "        monthly_games = get_monthly_games(archive)\n",
        "        all_games.extend(monthly_games)\n",
        "    bullet_games = [game for game in all_games if game['time_class'] == timeclass]\n",
        "    return bullet_games\n",
        "\n",
        "# Get top wins\n",
        "def get_top_wins(games,username):\n",
        "    wins =0\n",
        "    top_wins = {}\n",
        "    for game in games:\n",
        "        is_white_winner = game[\"white\"][\"username\"] == username  and game[\"white\"][\"result\"] == 'win'\n",
        "        is_black_winner = game[\"black\"][\"username\"] == username and game[\"black\"][\"result\"] == 'win'\n",
        "        if is_white_winner:\n",
        "            wins += 1\n",
        "            top_wins[game['black']['username']] = game['black']['rating']\n",
        "        elif is_black_winner:\n",
        "            wins += 1\n",
        "            top_wins[game['white']['username']] = game['white']['rating']\n",
        "    sorted_dict = dict(sorted(top_wins.items(), key=lambda x: x[1], reverse=True))\n",
        "    return sorted_dict\n",
        "\n",
        "# games = get_game_archives(\"damedolla5\",\"bullet\")\n",
        "# top_wins = get_top_wins(games,\"damedolla5\")\n",
        "# print(top_wins)\n",
        "# print(\"jadhay\" in top_wins)"
      ],
      "metadata": {
        "id": "rAZjdCI1tHcC"
      },
      "execution_count": 123,
      "outputs": []
    },
    {
      "cell_type": "code",
      "source": [
        "def display_path(users, target):\n",
        "    if target in users:     \n",
        "        path = users[0] + \" beat \"\n",
        "        current_user = users[1]\n",
        "        if len(users) > 2:\n",
        "          for user in users[2:]:\n",
        "              path += current_user + \" who beat \"\n",
        "              current_user = user\n",
        "              if user == target:\n",
        "                  path += user\n",
        "          return path + \"\\nSeperated by \" + str(len(users)-1) + \" players\"\n",
        "        return path + current_user + str(len(users)-1) + \"\\nSeperated by  players\"\n",
        "    else:\n",
        "        return \"ERROR: \" + target + \" not found in path list\"\n",
        "\n",
        "visited = set()\n",
        "player_found = False\n",
        "\n",
        "def search_for_player(username, path, max_path, visited_players, target, timeclass, last_rating):\n",
        "    global player_found\n",
        "\n",
        "    if timeclass not in [\"daily\", \"rapid\", \"blitz\", \"bullet\"]:\n",
        "      return \"Invalid time class. Input one of the following: daily, rapid, blits, bullet\"\n",
        "    # End recursive search when the target has been found\n",
        "    if player_found:\n",
        "        return\n",
        "    # End search if max depth reached\n",
        "    if path > max_path:\n",
        "        print(\"Max search depth reached\")\n",
        "        return\n",
        "    # End search if already visited\n",
        "    if username in visited:\n",
        "        return\n",
        "    visited.add(username)\n",
        "\n",
        "    # \"Location: {0:20} Revision {1}\".format(Location, Revision)\n",
        "    print(\"Searching top \" + timeclass + \" wins for \" + \"{0:20}\".format(username)+ str(last_rating) + \" with an end goal of \" + target)\n",
        "\n",
        "    # print(\"Searching top \" + timeclass + \" wins for \" + username + \" \" + str(last_rating) + \" with an end goal of \" + target)\n",
        "    \n",
        "    games = get_game_archives(username,timeclass)\n",
        "    top_wins = get_top_wins(games, username)\n",
        "    # print(top_wins)\n",
        "    visited_players.append(username)\n",
        "\n",
        "    if target in top_wins:\n",
        "        visited_players.append(target)\n",
        "        print(\"-\" * 150)\n",
        "        print(display_path(visited_players, target))  # add rating to the output log\n",
        "        print(\"-\" * 150)\n",
        "        player_found = True\n",
        "    else:\n",
        "        for key in top_wins.keys():\n",
        "\n",
        "            search_for_player(key, path+1, max_path, visited_players, target, timeclass, top_wins[key])\n",
        "            \n",
        "\n",
        "\n"
      ],
      "metadata": {
        "id": "GpQd9yIztHLM"
      },
      "execution_count": 124,
      "outputs": []
    },
    {
      "cell_type": "code",
      "source": [
        "\n",
        "def transitive_chess_search(your_username, target_username, timeclass):\n",
        "  print(\"Running program to check if \" + your_username + \" has technically beaten \" + target_username + \" in \" + timeclass + \" chess\")\n",
        "  print(\"-\" * 150)\n",
        "  search_for_player(your_username, 0, 50, [], target_username, timeclass, \"    \")\n",
        "  print(\"Done\")\n",
        "\n"
      ],
      "metadata": {
        "id": "6Ck7h5jy6AmY"
      },
      "execution_count": 125,
      "outputs": []
    },
    {
      "cell_type": "markdown",
      "source": [
        "**USAGE**\n",
        "\n",
        "Fill out the fields and run all"
      ],
      "metadata": {
        "id": "0nmuXLGo8GZD"
      }
    },
    {
      "cell_type": "code",
      "source": [
        "your_username = \"damedolla5\" \n",
        "target_username = \"MagnusCarlsen\"\n",
        "timeclass = \"daily\" # Options: bullet, blitz, rapid, daily\n",
        "transitive_chess_search(your_username, target_username, timeclass)"
      ],
      "metadata": {
        "colab": {
          "base_uri": "https://localhost:8080/"
        },
        "id": "QqVX7WD-79FH",
        "outputId": "8fce0f50-dd2e-4b8f-de2a-a9d65e3973a3"
      },
      "execution_count": 127,
      "outputs": [
        {
          "output_type": "stream",
          "name": "stdout",
          "text": [
            "Running program to check if damedolla5 has technically beaten MagnusCarlsen in daily chess\n",
            "------------------------------------------------------------------------------------------------------------------------------------------------------\n",
            "Done\n"
          ]
        }
      ]
    }
  ]
}